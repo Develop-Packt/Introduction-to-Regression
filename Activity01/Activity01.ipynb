{
 "cells": [
  {
   "cell_type": "code",
   "execution_count": 1,
   "metadata": {},
   "outputs": [
    {
     "data": {
      "text/plain": [
       "array([[6.3200e-03, 1.8000e+01, 2.3100e+00, ..., 2.9600e+02, 1.5300e+01,\n",
       "        4.9800e+00],\n",
       "       [2.7310e-02, 0.0000e+00, 7.0700e+00, ..., 2.4200e+02, 1.7800e+01,\n",
       "        9.1400e+00],\n",
       "       [2.7290e-02, 0.0000e+00, 7.0700e+00, ..., 2.4200e+02, 1.7800e+01,\n",
       "        4.0300e+00],\n",
       "       ...,\n",
       "       [6.0760e-02, 0.0000e+00, 1.1930e+01, ..., 2.7300e+02, 2.1000e+01,\n",
       "        5.6400e+00],\n",
       "       [1.0959e-01, 0.0000e+00, 1.1930e+01, ..., 2.7300e+02, 2.1000e+01,\n",
       "        6.4800e+00],\n",
       "       [4.7410e-02, 0.0000e+00, 1.1930e+01, ..., 2.7300e+02, 2.1000e+01,\n",
       "        7.8800e+00]])"
      ]
     },
     "execution_count": 1,
     "metadata": {},
     "output_type": "execute_result"
    }
   ],
   "source": [
    "import numpy as np\n",
    "import pandas as pd\n",
    "from sklearn import preprocessing\n",
    "from sklearn import model_selection\n",
    "from sklearn import linear_model\n",
    "from sklearn.preprocessing import PolynomialFeatures\n",
    "file_url = 'https://raw.githubusercontent.com/PacktWorkshops/The-Applied-Artificial-Intelligence-Workshop/master/Datasets/boston_house_price.csv'\n",
    "df = pd.read_csv(file_url)\n",
    "\n",
    "features = np.array(df.drop('MEDV', 1))\n",
    "features"
   ]
  },
  {
   "cell_type": "code",
   "execution_count": 2,
   "metadata": {
    "scrolled": true
   },
   "outputs": [
    {
     "data": {
      "text/plain": [
       "array([24. , 21.6, 34.7, 33.4, 36.2, 28.7, 22.9, 27.1, 16.5, 18.9, 15. ,\n",
       "       18.9, 21.7, 20.4, 18.2, 19.9, 23.1, 17.5, 20.2, 18.2, 13.6, 19.6,\n",
       "       15.2, 14.5, 15.6, 13.9, 16.6, 14.8, 18.4, 21. , 12.7, 14.5, 13.2,\n",
       "       13.1, 13.5, 18.9, 20. , 21. , 24.7, 30.8, 34.9, 26.6, 25.3, 24.7,\n",
       "       21.2, 19.3, 20. , 16.6, 14.4, 19.4, 19.7, 20.5, 25. , 23.4, 18.9,\n",
       "       35.4, 24.7, 31.6, 23.3, 19.6, 18.7, 16. , 22.2, 25. , 33. , 23.5,\n",
       "       19.4, 22. , 17.4, 20.9, 24.2, 21.7, 22.8, 23.4, 24.1, 21.4, 20. ,\n",
       "       20.8, 21.2, 20.3, 28. , 23.9, 24.8, 22.9, 23.9, 26.6, 22.5, 22.2,\n",
       "       23.6, 28.7, 22.6, 22. , 22.9, 25. , 20.6, 28.4, 21.4, 38.7, 43.8,\n",
       "       33.2, 27.5, 26.5, 18.6, 19.3, 20.1, 19.5, 19.5, 20.4, 19.8, 19.4,\n",
       "       21.7, 22.8, 18.8, 18.7, 18.5, 18.3, 21.2, 19.2, 20.4, 19.3, 22. ,\n",
       "       20.3, 20.5, 17.3, 18.8, 21.4, 15.7, 16.2, 18. , 14.3, 19.2, 19.6,\n",
       "       23. , 18.4, 15.6, 18.1, 17.4, 17.1, 13.3, 17.8, 14. , 14.4, 13.4,\n",
       "       15.6, 11.8, 13.8, 15.6, 14.6, 17.8, 15.4, 21.5, 19.6, 15.3, 19.4,\n",
       "       17. , 15.6, 13.1, 41.3, 24.3, 23.3, 27. , 50. , 50. , 50. , 22.7,\n",
       "       25. , 50. , 23.8, 23.8, 22.3, 17.4, 19.1, 23.1, 23.6, 22.6, 29.4,\n",
       "       23.2, 24.6, 29.9, 37.2, 39.8, 36.2, 37.9, 32.5, 26.4, 29.6, 50. ,\n",
       "       32. , 29.8, 34.9, 37. , 30.5, 36.4, 31.1, 29.1, 50. , 33.3, 30.3,\n",
       "       34.6, 34.9, 32.9, 24.1, 42.3, 48.5, 50. , 22.6, 24.4, 22.5, 24.4,\n",
       "       20. , 21.7, 19.3, 22.4, 28.1, 23.7, 25. , 23.3, 28.7, 21.5, 23. ,\n",
       "       26.7, 21.7, 27.5, 30.1, 44.8, 50. , 37.6, 31.6, 46.7, 31.5, 24.3,\n",
       "       31.7, 41.7, 48.3, 29. , 24. , 25.1, 31.5, 23.7, 23.3, 22. , 20.1,\n",
       "       22.2, 23.7, 17.6, 18.5, 24.3, 20.5, 24.5, 26.2, 24.4, 24.8, 29.6,\n",
       "       42.8, 21.9, 20.9, 44. , 50. , 36. , 30.1, 33.8, 43.1, 48.8, 31. ,\n",
       "       36.5, 22.8, 30.7, 50. , 43.5, 20.7, 21.1, 25.2, 24.4, 35.2, 32.4,\n",
       "       32. , 33.2, 33.1, 29.1, 35.1, 45.4, 35.4, 46. , 50. , 32.2, 22. ,\n",
       "       20.1, 23.2, 22.3, 24.8, 28.5, 37.3, 27.9, 23.9, 21.7, 28.6, 27.1,\n",
       "       20.3, 22.5, 29. , 24.8, 22. , 26.4, 33.1, 36.1, 28.4, 33.4, 28.2,\n",
       "       22.8, 20.3, 16.1, 22.1, 19.4, 21.6, 23.8, 16.2, 17.8, 19.8, 23.1,\n",
       "       21. , 23.8, 23.1, 20.4, 18.5, 25. , 24.6, 23. , 22.2, 19.3, 22.6,\n",
       "       19.8, 17.1, 19.4, 22.2, 20.7, 21.1, 19.5, 18.5, 20.6, 19. , 18.7,\n",
       "       32.7, 16.5, 23.9, 31.2, 17.5, 17.2, 23.1, 24.5, 26.6, 22.9, 24.1,\n",
       "       18.6, 30.1, 18.2, 20.6, 17.8, 21.7, 22.7, 22.6, 25. , 19.9, 20.8,\n",
       "       16.8, 21.9, 27.5, 21.9, 23.1, 50. , 50. , 50. , 50. , 50. , 13.8,\n",
       "       13.8, 15. , 13.9, 13.3, 13.1, 10.2, 10.4, 10.9, 11.3, 12.3,  8.8,\n",
       "        7.2, 10.5,  7.4, 10.2, 11.5, 15.1, 23.2,  9.7, 13.8, 12.7, 13.1,\n",
       "       12.5,  8.5,  5. ,  6.3,  5.6,  7.2, 12.1,  8.3,  8.5,  5. , 11.9,\n",
       "       27.9, 17.2, 27.5, 15. , 17.2, 17.9, 16.3,  7. ,  7.2,  7.5, 10.4,\n",
       "        8.8,  8.4, 16.7, 14.2, 20.8, 13.4, 11.7,  8.3, 10.2, 10.9, 11. ,\n",
       "        9.5, 14.5, 14.1, 16.1, 14.3, 11.7, 13.4,  9.6,  8.7,  8.4, 12.8,\n",
       "       10.5, 17.1, 18.4, 15.4, 10.8, 11.8, 14.9, 12.6, 14.1, 13. , 13.4,\n",
       "       15.2, 16.1, 17.8, 14.9, 14.1, 12.7, 13.5, 14.9, 20. , 16.4, 17.7,\n",
       "       19.5, 20.2, 21.4, 19.9, 19. , 19.1, 19.1, 20.1, 19.9, 19.6, 23.2,\n",
       "       29.8, 13.8, 13.3, 16.7, 12. , 14.6, 21.4, 23. , 23.7, 25. , 21.8,\n",
       "       20.6, 21.2, 19.1, 20.6, 15.2,  7. ,  8.1, 13.6, 20.1, 21.8, 24.5,\n",
       "       23.1, 19.7, 18.3, 21.2, 17.5, 16.8, 22.4, 20.6, 23.9, 22. , 11.9])"
      ]
     },
     "execution_count": 2,
     "metadata": {},
     "output_type": "execute_result"
    }
   ],
   "source": [
    "label = np.array(df['MEDV'])\n",
    "label"
   ]
  },
  {
   "cell_type": "code",
   "execution_count": 3,
   "metadata": {},
   "outputs": [
    {
     "data": {
      "text/plain": [
       "array([[-0.41978194,  0.28482986, -1.2879095 , ..., -0.66660821,\n",
       "        -1.45900038, -1.0755623 ],\n",
       "       [-0.41733926, -0.48772236, -0.59338101, ..., -0.98732948,\n",
       "        -0.30309415, -0.49243937],\n",
       "       [-0.41734159, -0.48772236, -0.59338101, ..., -0.98732948,\n",
       "        -0.30309415, -1.2087274 ],\n",
       "       ...,\n",
       "       [-0.41344658, -0.48772236,  0.11573841, ..., -0.80321172,\n",
       "         1.17646583, -0.98304761],\n",
       "       [-0.40776407, -0.48772236,  0.11573841, ..., -0.80321172,\n",
       "         1.17646583, -0.86530163],\n",
       "       [-0.41500016, -0.48772236,  0.11573841, ..., -0.80321172,\n",
       "         1.17646583, -0.66905833]])"
      ]
     },
     "execution_count": 3,
     "metadata": {},
     "output_type": "execute_result"
    }
   ],
   "source": [
    "scaled_features = preprocessing.scale(features)\n",
    "scaled_features"
   ]
  },
  {
   "cell_type": "code",
   "execution_count": 4,
   "metadata": {},
   "outputs": [
    {
     "data": {
      "text/plain": [
       "array([[ 1.        , -0.41978194,  0.28482986, ..., -0.66660821,\n",
       "        -1.45900038, -1.0755623 ],\n",
       "       [ 1.        , -0.41733926, -0.48772236, ..., -0.98732948,\n",
       "        -0.30309415, -0.49243937],\n",
       "       [ 1.        , -0.41734159, -0.48772236, ..., -0.98732948,\n",
       "        -0.30309415, -1.2087274 ],\n",
       "       ...,\n",
       "       [ 1.        , -0.41344658, -0.48772236, ..., -0.80321172,\n",
       "         1.17646583, -0.98304761],\n",
       "       [ 1.        , -0.40776407, -0.48772236, ..., -0.80321172,\n",
       "         1.17646583, -0.86530163],\n",
       "       [ 1.        , -0.41500016, -0.48772236, ..., -0.80321172,\n",
       "         1.17646583, -0.66905833]])"
      ]
     },
     "execution_count": 4,
     "metadata": {},
     "output_type": "execute_result"
    }
   ],
   "source": [
    "poly_1_scaled_features = PolynomialFeatures(degree=1).fit_transform(scaled_features)\n",
    "poly_1_scaled_features"
   ]
  },
  {
   "cell_type": "code",
   "execution_count": 5,
   "metadata": {},
   "outputs": [
    {
     "data": {
      "text/plain": [
       "array([[ 1.        , -0.41978194,  0.28482986, ...,  2.12868211,\n",
       "         1.56924581,  1.15683427],\n",
       "       [ 1.        , -0.41733926, -0.48772236, ...,  0.09186606,\n",
       "         0.14925549,  0.24249653],\n",
       "       [ 1.        , -0.41734159, -0.48772236, ...,  0.09186606,\n",
       "         0.3663582 ,  1.46102192],\n",
       "       ...,\n",
       "       [ 1.        , -0.41344658, -0.48772236, ...,  1.38407185,\n",
       "        -1.15652192,  0.9663826 ],\n",
       "       [ 1.        , -0.40776407, -0.48772236, ...,  1.38407185,\n",
       "        -1.0179978 ,  0.74874691],\n",
       "       [ 1.        , -0.41500016, -0.48772236, ...,  1.38407185,\n",
       "        -0.78712427,  0.44763905]])"
      ]
     },
     "execution_count": 5,
     "metadata": {},
     "output_type": "execute_result"
    }
   ],
   "source": [
    "poly_2_scaled_features = PolynomialFeatures(degree=2).fit_transform(scaled_features)\n",
    "poly_2_scaled_features"
   ]
  },
  {
   "cell_type": "code",
   "execution_count": 6,
   "metadata": {},
   "outputs": [
    {
     "data": {
      "text/plain": [
       "array([[ 1.        , -0.41978194,  0.28482986, ..., -2.28953024,\n",
       "        -1.68782164, -1.24424733],\n",
       "       [ 1.        , -0.41733926, -0.48772236, ..., -0.04523847,\n",
       "        -0.07349928, -0.11941484],\n",
       "       [ 1.        , -0.41734159, -0.48772236, ..., -0.11104103,\n",
       "        -0.4428272 , -1.76597723],\n",
       "       ...,\n",
       "       [ 1.        , -0.41344658, -0.48772236, ..., -1.36060852,\n",
       "         1.13691611, -0.9500001 ],\n",
       "       [ 1.        , -0.40776407, -0.48772236, ..., -1.19763962,\n",
       "         0.88087515, -0.64789192],\n",
       "       [ 1.        , -0.41500016, -0.48772236, ..., -0.9260248 ,\n",
       "         0.52663205, -0.29949664]])"
      ]
     },
     "execution_count": 6,
     "metadata": {},
     "output_type": "execute_result"
    }
   ],
   "source": [
    "poly_3_scaled_features = PolynomialFeatures(degree=3).fit_transform(scaled_features)\n",
    "poly_3_scaled_features"
   ]
  },
  {
   "cell_type": "code",
   "execution_count": 7,
   "metadata": {},
   "outputs": [
    {
     "data": {
      "text/plain": [
       "0.7406006443486721"
      ]
     },
     "execution_count": 7,
     "metadata": {},
     "output_type": "execute_result"
    }
   ],
   "source": [
    "poly_1_features_train, poly_1_features_test, poly_label_train, poly_label_test = model_selection.train_test_split(poly_1_scaled_features, label, test_size=0.1, random_state=8)\n",
    "poly_2_features_train, poly_2_features_test, poly_label_train, poly_label_test = model_selection.train_test_split(poly_2_scaled_features, label, test_size=0.1, random_state=8)\n",
    "poly_3_features_train, poly_3_features_test, poly_label_train, poly_label_test = model_selection.train_test_split(poly_3_scaled_features, label, test_size=0.1, random_state=8)\n",
    "model_1 = linear_model.LinearRegression()\n",
    "model_1.fit(poly_1_features_train, poly_label_train)\n",
    "model_1_score_train = model_1.score(poly_1_features_train, poly_label_train)\n",
    "model_1_score_train"
   ]
  },
  {
   "cell_type": "code",
   "execution_count": 8,
   "metadata": {},
   "outputs": [
    {
     "data": {
      "text/plain": [
       "0.6772229017901507"
      ]
     },
     "execution_count": 8,
     "metadata": {},
     "output_type": "execute_result"
    }
   ],
   "source": [
    "model_1_score_test = model_1.score(poly_1_features_test, poly_label_test)\n",
    "model_1_score_test"
   ]
  },
  {
   "cell_type": "code",
   "execution_count": 9,
   "metadata": {},
   "outputs": [
    {
     "data": {
      "text/plain": [
       "0.9251199698832675"
      ]
     },
     "execution_count": 9,
     "metadata": {},
     "output_type": "execute_result"
    }
   ],
   "source": [
    "model_2 = linear_model.LinearRegression()\n",
    "model_2.fit(poly_2_features_train, poly_label_train)\n",
    "model_2_score_train = model_2.score(poly_2_features_train, poly_label_train)\n",
    "model_2_score_train"
   ]
  },
  {
   "cell_type": "code",
   "execution_count": 10,
   "metadata": {},
   "outputs": [
    {
     "data": {
      "text/plain": [
       "0.8253870684280571"
      ]
     },
     "execution_count": 10,
     "metadata": {},
     "output_type": "execute_result"
    }
   ],
   "source": [
    "model_2_score_test = model_2.score(poly_2_features_test, poly_label_test)\n",
    "model_2_score_test"
   ]
  },
  {
   "cell_type": "code",
   "execution_count": 11,
   "metadata": {},
   "outputs": [
    {
     "data": {
      "text/plain": [
       "0.9910498071896092"
      ]
     },
     "execution_count": 11,
     "metadata": {},
     "output_type": "execute_result"
    }
   ],
   "source": [
    "model_3 = linear_model.LinearRegression()\n",
    "model_3.fit(poly_3_features_train, poly_label_train)\n",
    "model_3_score_train = model_3.score(poly_3_features_train, poly_label_train)\n",
    "model_3_score_train"
   ]
  },
  {
   "cell_type": "code",
   "execution_count": 12,
   "metadata": {},
   "outputs": [
    {
     "data": {
      "text/plain": [
       "-8430.78183931245"
      ]
     },
     "execution_count": 12,
     "metadata": {},
     "output_type": "execute_result"
    }
   ],
   "source": [
    "model_3_score_test = model_3.score(poly_3_features_test, poly_label_test)\n",
    "model_3_score_test"
   ]
  },
  {
   "cell_type": "code",
   "execution_count": 13,
   "metadata": {},
   "outputs": [
    {
     "data": {
      "text/html": [
       "<div>\n",
       "<style scoped>\n",
       "    .dataframe tbody tr th:only-of-type {\n",
       "        vertical-align: middle;\n",
       "    }\n",
       "\n",
       "    .dataframe tbody tr th {\n",
       "        vertical-align: top;\n",
       "    }\n",
       "\n",
       "    .dataframe thead th {\n",
       "        text-align: right;\n",
       "    }\n",
       "</style>\n",
       "<table border=\"1\" class=\"dataframe\">\n",
       "  <thead>\n",
       "    <tr style=\"text-align: right;\">\n",
       "      <th></th>\n",
       "      <th>label</th>\n",
       "      <th>model_1_prediction</th>\n",
       "      <th>model_2_prediction</th>\n",
       "      <th>model_3_prediction</th>\n",
       "    </tr>\n",
       "  </thead>\n",
       "  <tbody>\n",
       "    <tr>\n",
       "      <td>0</td>\n",
       "      <td>18.5</td>\n",
       "      <td>19.269554</td>\n",
       "      <td>19.885620</td>\n",
       "      <td>21.067408</td>\n",
       "    </tr>\n",
       "    <tr>\n",
       "      <td>1</td>\n",
       "      <td>12.7</td>\n",
       "      <td>11.434612</td>\n",
       "      <td>14.470337</td>\n",
       "      <td>11.703696</td>\n",
       "    </tr>\n",
       "    <tr>\n",
       "      <td>2</td>\n",
       "      <td>21.9</td>\n",
       "      <td>37.610026</td>\n",
       "      <td>32.721497</td>\n",
       "      <td>-3713.860406</td>\n",
       "    </tr>\n",
       "    <tr>\n",
       "      <td>3</td>\n",
       "      <td>22.0</td>\n",
       "      <td>26.985628</td>\n",
       "      <td>26.337830</td>\n",
       "      <td>1.711389</td>\n",
       "    </tr>\n",
       "    <tr>\n",
       "      <td>4</td>\n",
       "      <td>50.0</td>\n",
       "      <td>40.548986</td>\n",
       "      <td>45.107178</td>\n",
       "      <td>-448.022864</td>\n",
       "    </tr>\n",
       "    <tr>\n",
       "      <td>5</td>\n",
       "      <td>36.2</td>\n",
       "      <td>27.730936</td>\n",
       "      <td>26.509888</td>\n",
       "      <td>45.594573</td>\n",
       "    </tr>\n",
       "    <tr>\n",
       "      <td>6</td>\n",
       "      <td>16.5</td>\n",
       "      <td>10.601832</td>\n",
       "      <td>18.077148</td>\n",
       "      <td>-6.973548</td>\n",
       "    </tr>\n",
       "    <tr>\n",
       "      <td>7</td>\n",
       "      <td>32.4</td>\n",
       "      <td>36.478511</td>\n",
       "      <td>32.267456</td>\n",
       "      <td>1584.038369</td>\n",
       "    </tr>\n",
       "    <tr>\n",
       "      <td>8</td>\n",
       "      <td>24.6</td>\n",
       "      <td>29.094356</td>\n",
       "      <td>27.081970</td>\n",
       "      <td>25.674404</td>\n",
       "    </tr>\n",
       "    <tr>\n",
       "      <td>9</td>\n",
       "      <td>50.0</td>\n",
       "      <td>34.409453</td>\n",
       "      <td>54.093201</td>\n",
       "      <td>-285.162596</td>\n",
       "    </tr>\n",
       "    <tr>\n",
       "      <td>10</td>\n",
       "      <td>13.9</td>\n",
       "      <td>14.138314</td>\n",
       "      <td>15.555481</td>\n",
       "      <td>14.549911</td>\n",
       "    </tr>\n",
       "    <tr>\n",
       "      <td>11</td>\n",
       "      <td>11.9</td>\n",
       "      <td>7.143616</td>\n",
       "      <td>14.295105</td>\n",
       "      <td>22.325523</td>\n",
       "    </tr>\n",
       "    <tr>\n",
       "      <td>12</td>\n",
       "      <td>16.2</td>\n",
       "      <td>15.145181</td>\n",
       "      <td>15.568420</td>\n",
       "      <td>9.898856</td>\n",
       "    </tr>\n",
       "    <tr>\n",
       "      <td>13</td>\n",
       "      <td>21.4</td>\n",
       "      <td>24.640006</td>\n",
       "      <td>22.473389</td>\n",
       "      <td>27.077863</td>\n",
       "    </tr>\n",
       "    <tr>\n",
       "      <td>14</td>\n",
       "      <td>14.1</td>\n",
       "      <td>18.286986</td>\n",
       "      <td>15.431091</td>\n",
       "      <td>16.681383</td>\n",
       "    </tr>\n",
       "    <tr>\n",
       "      <td>15</td>\n",
       "      <td>22.8</td>\n",
       "      <td>28.722731</td>\n",
       "      <td>27.545044</td>\n",
       "      <td>28.044659</td>\n",
       "    </tr>\n",
       "    <tr>\n",
       "      <td>16</td>\n",
       "      <td>20.2</td>\n",
       "      <td>21.954915</td>\n",
       "      <td>23.018860</td>\n",
       "      <td>20.799415</td>\n",
       "    </tr>\n",
       "    <tr>\n",
       "      <td>17</td>\n",
       "      <td>20.6</td>\n",
       "      <td>22.242697</td>\n",
       "      <td>21.428589</td>\n",
       "      <td>14.382050</td>\n",
       "    </tr>\n",
       "    <tr>\n",
       "      <td>18</td>\n",
       "      <td>21.7</td>\n",
       "      <td>20.525778</td>\n",
       "      <td>23.490112</td>\n",
       "      <td>6.626913</td>\n",
       "    </tr>\n",
       "    <tr>\n",
       "      <td>19</td>\n",
       "      <td>8.5</td>\n",
       "      <td>6.123524</td>\n",
       "      <td>3.647705</td>\n",
       "      <td>44.830735</td>\n",
       "    </tr>\n",
       "    <tr>\n",
       "      <td>20</td>\n",
       "      <td>19.7</td>\n",
       "      <td>20.941992</td>\n",
       "      <td>20.982605</td>\n",
       "      <td>42.360517</td>\n",
       "    </tr>\n",
       "    <tr>\n",
       "      <td>21</td>\n",
       "      <td>24.7</td>\n",
       "      <td>25.283176</td>\n",
       "      <td>23.948181</td>\n",
       "      <td>-1933.416484</td>\n",
       "    </tr>\n",
       "    <tr>\n",
       "      <td>22</td>\n",
       "      <td>24.0</td>\n",
       "      <td>30.210006</td>\n",
       "      <td>25.279541</td>\n",
       "      <td>3883.373880</td>\n",
       "    </tr>\n",
       "    <tr>\n",
       "      <td>23</td>\n",
       "      <td>31.7</td>\n",
       "      <td>33.246315</td>\n",
       "      <td>35.102905</td>\n",
       "      <td>34.179192</td>\n",
       "    </tr>\n",
       "    <tr>\n",
       "      <td>24</td>\n",
       "      <td>28.6</td>\n",
       "      <td>28.029351</td>\n",
       "      <td>30.777344</td>\n",
       "      <td>26.253734</td>\n",
       "    </tr>\n",
       "    <tr>\n",
       "      <td>25</td>\n",
       "      <td>33.4</td>\n",
       "      <td>35.604747</td>\n",
       "      <td>37.843628</td>\n",
       "      <td>35.972277</td>\n",
       "    </tr>\n",
       "    <tr>\n",
       "      <td>26</td>\n",
       "      <td>7.4</td>\n",
       "      <td>4.072484</td>\n",
       "      <td>7.717102</td>\n",
       "      <td>8.697100</td>\n",
       "    </tr>\n",
       "    <tr>\n",
       "      <td>27</td>\n",
       "      <td>14.8</td>\n",
       "      <td>15.357062</td>\n",
       "      <td>15.526855</td>\n",
       "      <td>14.829471</td>\n",
       "    </tr>\n",
       "    <tr>\n",
       "      <td>28</td>\n",
       "      <td>25.0</td>\n",
       "      <td>26.446100</td>\n",
       "      <td>22.901733</td>\n",
       "      <td>21.236107</td>\n",
       "    </tr>\n",
       "    <tr>\n",
       "      <td>29</td>\n",
       "      <td>17.0</td>\n",
       "      <td>23.139618</td>\n",
       "      <td>12.336243</td>\n",
       "      <td>1313.655700</td>\n",
       "    </tr>\n",
       "    <tr>\n",
       "      <td>30</td>\n",
       "      <td>31.0</td>\n",
       "      <td>34.262429</td>\n",
       "      <td>33.495361</td>\n",
       "      <td>31.931148</td>\n",
       "    </tr>\n",
       "    <tr>\n",
       "      <td>31</td>\n",
       "      <td>12.6</td>\n",
       "      <td>17.459870</td>\n",
       "      <td>14.574646</td>\n",
       "      <td>16.538190</td>\n",
       "    </tr>\n",
       "    <tr>\n",
       "      <td>32</td>\n",
       "      <td>19.4</td>\n",
       "      <td>19.703798</td>\n",
       "      <td>18.277161</td>\n",
       "      <td>18.856206</td>\n",
       "    </tr>\n",
       "    <tr>\n",
       "      <td>33</td>\n",
       "      <td>11.9</td>\n",
       "      <td>22.672025</td>\n",
       "      <td>18.018005</td>\n",
       "      <td>24.077838</td>\n",
       "    </tr>\n",
       "    <tr>\n",
       "      <td>34</td>\n",
       "      <td>24.8</td>\n",
       "      <td>25.283525</td>\n",
       "      <td>25.321716</td>\n",
       "      <td>12.247411</td>\n",
       "    </tr>\n",
       "    <tr>\n",
       "      <td>35</td>\n",
       "      <td>23.7</td>\n",
       "      <td>26.393260</td>\n",
       "      <td>29.153809</td>\n",
       "      <td>23.259279</td>\n",
       "    </tr>\n",
       "    <tr>\n",
       "      <td>36</td>\n",
       "      <td>29.0</td>\n",
       "      <td>32.219422</td>\n",
       "      <td>33.910400</td>\n",
       "      <td>40.972135</td>\n",
       "    </tr>\n",
       "    <tr>\n",
       "      <td>37</td>\n",
       "      <td>21.6</td>\n",
       "      <td>25.575263</td>\n",
       "      <td>22.962769</td>\n",
       "      <td>22.573236</td>\n",
       "    </tr>\n",
       "    <tr>\n",
       "      <td>38</td>\n",
       "      <td>14.3</td>\n",
       "      <td>13.920985</td>\n",
       "      <td>15.894226</td>\n",
       "      <td>15.234361</td>\n",
       "    </tr>\n",
       "    <tr>\n",
       "      <td>39</td>\n",
       "      <td>11.5</td>\n",
       "      <td>13.364197</td>\n",
       "      <td>14.815674</td>\n",
       "      <td>12.127128</td>\n",
       "    </tr>\n",
       "    <tr>\n",
       "      <td>40</td>\n",
       "      <td>21.7</td>\n",
       "      <td>22.128952</td>\n",
       "      <td>18.801636</td>\n",
       "      <td>1243.717096</td>\n",
       "    </tr>\n",
       "    <tr>\n",
       "      <td>41</td>\n",
       "      <td>20.7</td>\n",
       "      <td>21.686098</td>\n",
       "      <td>23.825378</td>\n",
       "      <td>22.295532</td>\n",
       "    </tr>\n",
       "    <tr>\n",
       "      <td>42</td>\n",
       "      <td>50.0</td>\n",
       "      <td>35.908786</td>\n",
       "      <td>42.350830</td>\n",
       "      <td>33.081705</td>\n",
       "    </tr>\n",
       "    <tr>\n",
       "      <td>43</td>\n",
       "      <td>33.8</td>\n",
       "      <td>34.723780</td>\n",
       "      <td>34.977661</td>\n",
       "      <td>50.412083</td>\n",
       "    </tr>\n",
       "    <tr>\n",
       "      <td>44</td>\n",
       "      <td>33.0</td>\n",
       "      <td>23.218126</td>\n",
       "      <td>29.837952</td>\n",
       "      <td>689.720446</td>\n",
       "    </tr>\n",
       "    <tr>\n",
       "      <td>45</td>\n",
       "      <td>19.6</td>\n",
       "      <td>18.864385</td>\n",
       "      <td>16.029175</td>\n",
       "      <td>27.249770</td>\n",
       "    </tr>\n",
       "    <tr>\n",
       "      <td>46</td>\n",
       "      <td>17.8</td>\n",
       "      <td>19.259586</td>\n",
       "      <td>29.322754</td>\n",
       "      <td>-579.552124</td>\n",
       "    </tr>\n",
       "    <tr>\n",
       "      <td>47</td>\n",
       "      <td>21.8</td>\n",
       "      <td>20.448121</td>\n",
       "      <td>17.754700</td>\n",
       "      <td>26.453285</td>\n",
       "    </tr>\n",
       "    <tr>\n",
       "      <td>48</td>\n",
       "      <td>19.4</td>\n",
       "      <td>25.689675</td>\n",
       "      <td>18.729675</td>\n",
       "      <td>54.528102</td>\n",
       "    </tr>\n",
       "    <tr>\n",
       "      <td>49</td>\n",
       "      <td>29.6</td>\n",
       "      <td>24.659618</td>\n",
       "      <td>24.465759</td>\n",
       "      <td>35.377450</td>\n",
       "    </tr>\n",
       "    <tr>\n",
       "      <td>50</td>\n",
       "      <td>17.1</td>\n",
       "      <td>19.966323</td>\n",
       "      <td>17.904297</td>\n",
       "      <td>17.445870</td>\n",
       "    </tr>\n",
       "  </tbody>\n",
       "</table>\n",
       "</div>"
      ],
      "text/plain": [
       "    label  model_1_prediction  model_2_prediction  model_3_prediction\n",
       "0    18.5           19.269554           19.885620           21.067408\n",
       "1    12.7           11.434612           14.470337           11.703696\n",
       "2    21.9           37.610026           32.721497        -3713.860406\n",
       "3    22.0           26.985628           26.337830            1.711389\n",
       "4    50.0           40.548986           45.107178         -448.022864\n",
       "5    36.2           27.730936           26.509888           45.594573\n",
       "6    16.5           10.601832           18.077148           -6.973548\n",
       "7    32.4           36.478511           32.267456         1584.038369\n",
       "8    24.6           29.094356           27.081970           25.674404\n",
       "9    50.0           34.409453           54.093201         -285.162596\n",
       "10   13.9           14.138314           15.555481           14.549911\n",
       "11   11.9            7.143616           14.295105           22.325523\n",
       "12   16.2           15.145181           15.568420            9.898856\n",
       "13   21.4           24.640006           22.473389           27.077863\n",
       "14   14.1           18.286986           15.431091           16.681383\n",
       "15   22.8           28.722731           27.545044           28.044659\n",
       "16   20.2           21.954915           23.018860           20.799415\n",
       "17   20.6           22.242697           21.428589           14.382050\n",
       "18   21.7           20.525778           23.490112            6.626913\n",
       "19    8.5            6.123524            3.647705           44.830735\n",
       "20   19.7           20.941992           20.982605           42.360517\n",
       "21   24.7           25.283176           23.948181        -1933.416484\n",
       "22   24.0           30.210006           25.279541         3883.373880\n",
       "23   31.7           33.246315           35.102905           34.179192\n",
       "24   28.6           28.029351           30.777344           26.253734\n",
       "25   33.4           35.604747           37.843628           35.972277\n",
       "26    7.4            4.072484            7.717102            8.697100\n",
       "27   14.8           15.357062           15.526855           14.829471\n",
       "28   25.0           26.446100           22.901733           21.236107\n",
       "29   17.0           23.139618           12.336243         1313.655700\n",
       "30   31.0           34.262429           33.495361           31.931148\n",
       "31   12.6           17.459870           14.574646           16.538190\n",
       "32   19.4           19.703798           18.277161           18.856206\n",
       "33   11.9           22.672025           18.018005           24.077838\n",
       "34   24.8           25.283525           25.321716           12.247411\n",
       "35   23.7           26.393260           29.153809           23.259279\n",
       "36   29.0           32.219422           33.910400           40.972135\n",
       "37   21.6           25.575263           22.962769           22.573236\n",
       "38   14.3           13.920985           15.894226           15.234361\n",
       "39   11.5           13.364197           14.815674           12.127128\n",
       "40   21.7           22.128952           18.801636         1243.717096\n",
       "41   20.7           21.686098           23.825378           22.295532\n",
       "42   50.0           35.908786           42.350830           33.081705\n",
       "43   33.8           34.723780           34.977661           50.412083\n",
       "44   33.0           23.218126           29.837952          689.720446\n",
       "45   19.6           18.864385           16.029175           27.249770\n",
       "46   17.8           19.259586           29.322754         -579.552124\n",
       "47   21.8           20.448121           17.754700           26.453285\n",
       "48   19.4           25.689675           18.729675           54.528102\n",
       "49   29.6           24.659618           24.465759           35.377450\n",
       "50   17.1           19.966323           17.904297           17.445870"
      ]
     },
     "execution_count": 13,
     "metadata": {},
     "output_type": "execute_result"
    }
   ],
   "source": [
    "model_1_prediction = model_1.predict(poly_1_features_test)\n",
    "model_2_prediction = model_2.predict(poly_2_features_test)\n",
    "model_3_prediction = model_3.predict(poly_3_features_test)\n",
    "\n",
    "df_prediction = pd.DataFrame(poly_label_test)\n",
    "df_prediction.rename(columns = {0:'label'}, inplace = True)\n",
    "df_prediction['model_1_prediction'] = pd.DataFrame(model_1_prediction)\n",
    "df_prediction['model_2_prediction'] = pd.DataFrame(model_2_prediction)\n",
    "df_prediction['model_3_prediction'] = pd.DataFrame(model_3_prediction)\n",
    "df_prediction"
   ]
  }
 ],
 "metadata": {
  "kernelspec": {
   "display_name": "Python 3",
   "language": "python",
   "name": "python3"
  },
  "language_info": {
   "codemirror_mode": {
    "name": "ipython",
    "version": 3
   },
   "file_extension": ".py",
   "mimetype": "text/x-python",
   "name": "python",
   "nbconvert_exporter": "python",
   "pygments_lexer": "ipython3",
   "version": "3.7.6"
  }
 },
 "nbformat": 4,
 "nbformat_minor": 4
}
